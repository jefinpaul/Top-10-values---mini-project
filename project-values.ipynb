{
 "cells": [
  {
   "cell_type": "markdown",
   "id": "5f9c3ad0",
   "metadata": {
    "papermill": {
     "duration": 0.021093,
     "end_time": "2022-02-02T02:28:11.125733",
     "exception": false,
     "start_time": "2022-02-02T02:28:11.104640",
     "status": "completed"
    },
    "tags": []
   },
   "source": [
    "# Adding text files"
   ]
  },
  {
   "cell_type": "code",
   "execution_count": 1,
   "id": "63f2a762",
   "metadata": {
    "execution": {
     "iopub.execute_input": "2022-02-02T02:28:11.177368Z",
     "iopub.status.busy": "2022-02-02T02:28:11.176576Z",
     "iopub.status.idle": "2022-02-02T02:28:11.269535Z",
     "shell.execute_reply": "2022-02-02T02:28:11.270261Z",
     "shell.execute_reply.started": "2022-02-02T02:27:22.245935Z"
    },
    "papermill": {
     "duration": 0.125716,
     "end_time": "2022-02-02T02:28:11.270758",
     "exception": false,
     "start_time": "2022-02-02T02:28:11.145042",
     "status": "completed"
    },
    "tags": []
   },
   "outputs": [],
   "source": [
    "import os\n",
    "import re\n",
    "\n",
    "\n",
    "files = \"../input/top-10-values\"\n",
    "values = []\n",
    "def read_file(path):\n",
    "    value = []\n",
    "    with open(path,'r') as value_file:\n",
    "        for line in value_file:\n",
    "            if not line.isspace():\n",
    "                value.append(line)\n",
    "    values.extend(value)\n",
    "for file in os.listdir(files):\n",
    "    if file.endswith(\".txt\") and file.startswith(\"F\"):\n",
    "        path = f\"{files}/{file}\"\n",
    "        read_file(path)\n",
    "        "
   ]
  },
  {
   "cell_type": "code",
   "execution_count": 2,
   "id": "df55841c",
   "metadata": {
    "execution": {
     "iopub.execute_input": "2022-02-02T02:28:11.322968Z",
     "iopub.status.busy": "2022-02-02T02:28:11.321768Z",
     "iopub.status.idle": "2022-02-02T02:28:11.343625Z",
     "shell.execute_reply": "2022-02-02T02:28:11.343041Z",
     "shell.execute_reply.started": "2022-02-02T02:27:22.417637Z"
    },
    "papermill": {
     "duration": 0.052642,
     "end_time": "2022-02-02T02:28:11.343773",
     "exception": false,
     "start_time": "2022-02-02T02:28:11.291131",
     "status": "completed"
    },
    "tags": []
   },
   "outputs": [
    {
     "name": "stdout",
     "output_type": "stream",
     "text": [
      "                 0\n",
      "0          Honesty\n",
      "1       Simplicity\n",
      "2        Happiness\n",
      "3     Thankfulness\n",
      "4    Participation\n",
      "..             ...\n",
      "190  Productivity \n",
      "191          Trust\n",
      "192     Simplicity\n",
      "193  Collaboration\n",
      "194       Accuracy\n",
      "\n",
      "[195 rows x 1 columns]\n"
     ]
    },
    {
     "name": "stderr",
     "output_type": "stream",
     "text": [
      "/opt/conda/lib/python3.7/site-packages/ipykernel_launcher.py:3: FutureWarning: The default value of regex will change from True to False in a future version.\n",
      "  This is separate from the ipykernel package so we can avoid doing imports until\n",
      "/opt/conda/lib/python3.7/site-packages/ipykernel_launcher.py:5: FutureWarning: The default value of regex will change from True to False in a future version. In addition, single character regular expressions will *not* be treated as literal strings when regex=True.\n",
      "  \"\"\"\n"
     ]
    }
   ],
   "source": [
    "import pandas as pd\n",
    "df = pd.DataFrame(values)\n",
    "df[0] = df[0].str.replace('\\d+', '')\n",
    "\n",
    "df[0] = df[0].str.replace('.', '')\n",
    "df[0] = df[0].str.replace(',', '')\n",
    "df[0] = df[0].str.replace('\\n', '')\n",
    "df[0] = df[0].str.replace('\\t', '')\n",
    "\n",
    "\n",
    "print(df)"
   ]
  },
  {
   "cell_type": "code",
   "execution_count": 3,
   "id": "9648fa96",
   "metadata": {
    "execution": {
     "iopub.execute_input": "2022-02-02T02:28:11.391198Z",
     "iopub.status.busy": "2022-02-02T02:28:11.390345Z",
     "iopub.status.idle": "2022-02-02T02:28:11.401819Z",
     "shell.execute_reply": "2022-02-02T02:28:11.401017Z",
     "shell.execute_reply.started": "2022-02-02T02:27:22.440863Z"
    },
    "papermill": {
     "duration": 0.038392,
     "end_time": "2022-02-02T02:28:11.401978",
     "exception": false,
     "start_time": "2022-02-02T02:28:11.363586",
     "status": "completed"
    },
    "tags": []
   },
   "outputs": [
    {
     "name": "stderr",
     "output_type": "stream",
     "text": [
      "/opt/conda/lib/python3.7/site-packages/ipykernel_launcher.py:6: DeprecationWarning: Using or importing the ABCs from 'collections' instead of from 'collections.abc' is deprecated since Python 3.3,and in 3.9 it will stop working\n",
      "  \n"
     ]
    }
   ],
   "source": [
    "data44 = []\n",
    "with open(\"../input/file15/File 15.txt\",'r') as file:\n",
    "    for line in file:\n",
    "          values = line.split(',') or line.isspace()      \n",
    "          data44.append(values) \n",
    "from collections import Iterable\n",
    "def flatten(lis):\n",
    "     for item in lis:\n",
    "         if isinstance(item, Iterable) and not isinstance(item, str):\n",
    "             for x in flatten(item):\n",
    "                 yield x\n",
    "         else:        \n",
    "             yield item\n",
    "data45 =  list(flatten(data44))"
   ]
  },
  {
   "cell_type": "code",
   "execution_count": 4,
   "id": "a9aaf4fd",
   "metadata": {
    "execution": {
     "iopub.execute_input": "2022-02-02T02:28:11.450155Z",
     "iopub.status.busy": "2022-02-02T02:28:11.449364Z",
     "iopub.status.idle": "2022-02-02T02:28:11.459428Z",
     "shell.execute_reply": "2022-02-02T02:28:11.459991Z",
     "shell.execute_reply.started": "2022-02-02T02:27:22.464118Z"
    },
    "papermill": {
     "duration": 0.038996,
     "end_time": "2022-02-02T02:28:11.460170",
     "exception": false,
     "start_time": "2022-02-02T02:28:11.421174",
     "status": "completed"
    },
    "tags": []
   },
   "outputs": [
    {
     "name": "stdout",
     "output_type": "stream",
     "text": [
      "                0\n",
      "0      Friendship\n",
      "1         Courage\n",
      "2      confidence\n",
      "3           focus\n",
      "4   understanding\n",
      "5             fun\n",
      "6    Independence\n",
      "7    comeradeship\n",
      "8                \n",
      "9         freedom\n",
      "10      Adventure\n"
     ]
    },
    {
     "name": "stderr",
     "output_type": "stream",
     "text": [
      "/opt/conda/lib/python3.7/site-packages/ipykernel_launcher.py:3: FutureWarning: The default value of regex will change from True to False in a future version.\n",
      "  This is separate from the ipykernel package so we can avoid doing imports until\n",
      "/opt/conda/lib/python3.7/site-packages/ipykernel_launcher.py:5: FutureWarning: The default value of regex will change from True to False in a future version. In addition, single character regular expressions will *not* be treated as literal strings when regex=True.\n",
      "  \"\"\"\n"
     ]
    }
   ],
   "source": [
    "import pandas as pd\n",
    "df5 = pd.DataFrame(data45)\n",
    "df5[0] = df5[0].str.replace('\\d+', '')\n",
    "\n",
    "df5[0] = df5[0].str.replace('.', '')\n",
    "df5[0] = df5[0].str.replace(',', '')\n",
    "df5[0] = df5[0].str.replace('\\n', '')\n",
    "df[0] = df[0].str.replace('\\t', '')\n",
    "\n",
    "\n",
    "print(df5)"
   ]
  },
  {
   "cell_type": "code",
   "execution_count": 5,
   "id": "2da915cb",
   "metadata": {
    "execution": {
     "iopub.execute_input": "2022-02-02T02:28:11.503695Z",
     "iopub.status.busy": "2022-02-02T02:28:11.502887Z",
     "iopub.status.idle": "2022-02-02T02:28:11.509810Z",
     "shell.execute_reply": "2022-02-02T02:28:11.510348Z",
     "shell.execute_reply.started": "2022-02-02T02:27:22.478345Z"
    },
    "papermill": {
     "duration": 0.030354,
     "end_time": "2022-02-02T02:28:11.510576",
     "exception": false,
     "start_time": "2022-02-02T02:28:11.480222",
     "status": "completed"
    },
    "tags": []
   },
   "outputs": [],
   "source": [
    "df2 = df.append(df5)"
   ]
  },
  {
   "cell_type": "code",
   "execution_count": 6,
   "id": "d5afee07",
   "metadata": {
    "execution": {
     "iopub.execute_input": "2022-02-02T02:28:11.557334Z",
     "iopub.status.busy": "2022-02-02T02:28:11.556619Z",
     "iopub.status.idle": "2022-02-02T02:28:11.579261Z",
     "shell.execute_reply": "2022-02-02T02:28:11.579900Z",
     "shell.execute_reply.started": "2022-02-02T02:27:22.489749Z"
    },
    "papermill": {
     "duration": 0.048454,
     "end_time": "2022-02-02T02:28:11.580128",
     "exception": false,
     "start_time": "2022-02-02T02:28:11.531674",
     "status": "completed"
    },
    "tags": []
   },
   "outputs": [
    {
     "data": {
      "text/html": [
       "<div>\n",
       "<style scoped>\n",
       "    .dataframe tbody tr th:only-of-type {\n",
       "        vertical-align: middle;\n",
       "    }\n",
       "\n",
       "    .dataframe tbody tr th {\n",
       "        vertical-align: top;\n",
       "    }\n",
       "\n",
       "    .dataframe thead th {\n",
       "        text-align: right;\n",
       "    }\n",
       "</style>\n",
       "<table border=\"1\" class=\"dataframe\">\n",
       "  <thead>\n",
       "    <tr style=\"text-align: right;\">\n",
       "      <th></th>\n",
       "      <th>index</th>\n",
       "      <th>0</th>\n",
       "    </tr>\n",
       "  </thead>\n",
       "  <tbody>\n",
       "    <tr>\n",
       "      <th>0</th>\n",
       "      <td>0</td>\n",
       "      <td>Honesty</td>\n",
       "    </tr>\n",
       "    <tr>\n",
       "      <th>1</th>\n",
       "      <td>1</td>\n",
       "      <td>Simplicity</td>\n",
       "    </tr>\n",
       "    <tr>\n",
       "      <th>2</th>\n",
       "      <td>2</td>\n",
       "      <td>Happiness</td>\n",
       "    </tr>\n",
       "    <tr>\n",
       "      <th>3</th>\n",
       "      <td>3</td>\n",
       "      <td>Thankfulness</td>\n",
       "    </tr>\n",
       "    <tr>\n",
       "      <th>4</th>\n",
       "      <td>4</td>\n",
       "      <td>Participation</td>\n",
       "    </tr>\n",
       "    <tr>\n",
       "      <th>...</th>\n",
       "      <td>...</td>\n",
       "      <td>...</td>\n",
       "    </tr>\n",
       "    <tr>\n",
       "      <th>201</th>\n",
       "      <td>6</td>\n",
       "      <td>Independence</td>\n",
       "    </tr>\n",
       "    <tr>\n",
       "      <th>202</th>\n",
       "      <td>7</td>\n",
       "      <td>comeradeship</td>\n",
       "    </tr>\n",
       "    <tr>\n",
       "      <th>203</th>\n",
       "      <td>8</td>\n",
       "      <td></td>\n",
       "    </tr>\n",
       "    <tr>\n",
       "      <th>204</th>\n",
       "      <td>9</td>\n",
       "      <td>freedom</td>\n",
       "    </tr>\n",
       "    <tr>\n",
       "      <th>205</th>\n",
       "      <td>10</td>\n",
       "      <td>Adventure</td>\n",
       "    </tr>\n",
       "  </tbody>\n",
       "</table>\n",
       "<p>206 rows × 2 columns</p>\n",
       "</div>"
      ],
      "text/plain": [
       "     index              0\n",
       "0        0        Honesty\n",
       "1        1     Simplicity\n",
       "2        2      Happiness\n",
       "3        3   Thankfulness\n",
       "4        4  Participation\n",
       "..     ...            ...\n",
       "201      6   Independence\n",
       "202      7   comeradeship\n",
       "203      8               \n",
       "204      9        freedom\n",
       "205     10      Adventure\n",
       "\n",
       "[206 rows x 2 columns]"
      ]
     },
     "execution_count": 6,
     "metadata": {},
     "output_type": "execute_result"
    }
   ],
   "source": [
    "df2.reset_index()"
   ]
  },
  {
   "cell_type": "markdown",
   "id": "8c3cda1a",
   "metadata": {
    "papermill": {
     "duration": 0.020119,
     "end_time": "2022-02-02T02:28:11.621448",
     "exception": false,
     "start_time": "2022-02-02T02:28:11.601329",
     "status": "completed"
    },
    "tags": []
   },
   "source": [
    "# Adding the excel file (csv format)"
   ]
  },
  {
   "cell_type": "code",
   "execution_count": 7,
   "id": "959b8709",
   "metadata": {
    "execution": {
     "iopub.execute_input": "2022-02-02T02:28:11.667568Z",
     "iopub.status.busy": "2022-02-02T02:28:11.664907Z",
     "iopub.status.idle": "2022-02-02T02:28:11.678415Z",
     "shell.execute_reply": "2022-02-02T02:28:11.679037Z",
     "shell.execute_reply.started": "2022-02-02T02:27:22.513173Z"
    },
    "papermill": {
     "duration": 0.038482,
     "end_time": "2022-02-02T02:28:11.679250",
     "exception": false,
     "start_time": "2022-02-02T02:28:11.640768",
     "status": "completed"
    },
    "tags": []
   },
   "outputs": [],
   "source": [
    "df3 = pd.read_csv(\"../input/top-10-values/file 21 (1).csv\")"
   ]
  },
  {
   "cell_type": "code",
   "execution_count": 8,
   "id": "bb6a2460",
   "metadata": {
    "execution": {
     "iopub.execute_input": "2022-02-02T02:28:11.724728Z",
     "iopub.status.busy": "2022-02-02T02:28:11.723867Z",
     "iopub.status.idle": "2022-02-02T02:28:11.729604Z",
     "shell.execute_reply": "2022-02-02T02:28:11.730261Z",
     "shell.execute_reply.started": "2022-02-02T02:27:22.529911Z"
    },
    "papermill": {
     "duration": 0.03063,
     "end_time": "2022-02-02T02:28:11.730476",
     "exception": false,
     "start_time": "2022-02-02T02:28:11.699846",
     "status": "completed"
    },
    "tags": []
   },
   "outputs": [],
   "source": [
    "df4 = pd.Series(df3.values.ravel('F'))"
   ]
  },
  {
   "cell_type": "code",
   "execution_count": 9,
   "id": "55c89c05",
   "metadata": {
    "execution": {
     "iopub.execute_input": "2022-02-02T02:28:11.775870Z",
     "iopub.status.busy": "2022-02-02T02:28:11.775129Z",
     "iopub.status.idle": "2022-02-02T02:28:11.783271Z",
     "shell.execute_reply": "2022-02-02T02:28:11.783764Z",
     "shell.execute_reply.started": "2022-02-02T02:27:22.535427Z"
    },
    "papermill": {
     "duration": 0.032864,
     "end_time": "2022-02-02T02:28:11.783990",
     "exception": false,
     "start_time": "2022-02-02T02:28:11.751126",
     "status": "completed"
    },
    "tags": []
   },
   "outputs": [
    {
     "data": {
      "text/plain": [
       "0         Boldness\n",
       "1        Challenge\n",
       "2    Determination\n",
       "3      Flexibility\n",
       "4       Friendship\n",
       "dtype: object"
      ]
     },
     "execution_count": 9,
     "metadata": {},
     "output_type": "execute_result"
    }
   ],
   "source": [
    "df4.head()"
   ]
  },
  {
   "cell_type": "markdown",
   "id": "c9e427d3",
   "metadata": {
    "papermill": {
     "duration": 0.020919,
     "end_time": "2022-02-02T02:28:11.826310",
     "exception": false,
     "start_time": "2022-02-02T02:28:11.805391",
     "status": "completed"
    },
    "tags": []
   },
   "source": [
    "**Joining text file and csv file**"
   ]
  },
  {
   "cell_type": "code",
   "execution_count": 10,
   "id": "f69ef3e5",
   "metadata": {
    "execution": {
     "iopub.execute_input": "2022-02-02T02:28:11.875182Z",
     "iopub.status.busy": "2022-02-02T02:28:11.874296Z",
     "iopub.status.idle": "2022-02-02T02:28:11.876400Z",
     "shell.execute_reply": "2022-02-02T02:28:11.877108Z",
     "shell.execute_reply.started": "2022-02-02T02:27:22.549919Z"
    },
    "papermill": {
     "duration": 0.029346,
     "end_time": "2022-02-02T02:28:11.877329",
     "exception": false,
     "start_time": "2022-02-02T02:28:11.847983",
     "status": "completed"
    },
    "tags": []
   },
   "outputs": [],
   "source": [
    "frames = [df2,df4]"
   ]
  },
  {
   "cell_type": "code",
   "execution_count": 11,
   "id": "8322a101",
   "metadata": {
    "execution": {
     "iopub.execute_input": "2022-02-02T02:28:11.928485Z",
     "iopub.status.busy": "2022-02-02T02:28:11.927090Z",
     "iopub.status.idle": "2022-02-02T02:28:11.929354Z",
     "shell.execute_reply": "2022-02-02T02:28:11.929877Z",
     "shell.execute_reply.started": "2022-02-02T02:27:22.557678Z"
    },
    "papermill": {
     "duration": 0.030988,
     "end_time": "2022-02-02T02:28:11.930057",
     "exception": false,
     "start_time": "2022-02-02T02:28:11.899069",
     "status": "completed"
    },
    "tags": []
   },
   "outputs": [],
   "source": [
    "result = pd.concat(frames)"
   ]
  },
  {
   "cell_type": "code",
   "execution_count": 12,
   "id": "5054ee96",
   "metadata": {
    "execution": {
     "iopub.execute_input": "2022-02-02T02:28:11.983892Z",
     "iopub.status.busy": "2022-02-02T02:28:11.974920Z",
     "iopub.status.idle": "2022-02-02T02:28:11.987494Z",
     "shell.execute_reply": "2022-02-02T02:28:11.988112Z",
     "shell.execute_reply.started": "2022-02-02T02:27:22.567479Z"
    },
    "papermill": {
     "duration": 0.03783,
     "end_time": "2022-02-02T02:28:11.988537",
     "exception": false,
     "start_time": "2022-02-02T02:28:11.950707",
     "status": "completed"
    },
    "tags": []
   },
   "outputs": [
    {
     "data": {
      "text/html": [
       "<div>\n",
       "<style scoped>\n",
       "    .dataframe tbody tr th:only-of-type {\n",
       "        vertical-align: middle;\n",
       "    }\n",
       "\n",
       "    .dataframe tbody tr th {\n",
       "        vertical-align: top;\n",
       "    }\n",
       "\n",
       "    .dataframe thead th {\n",
       "        text-align: right;\n",
       "    }\n",
       "</style>\n",
       "<table border=\"1\" class=\"dataframe\">\n",
       "  <thead>\n",
       "    <tr style=\"text-align: right;\">\n",
       "      <th></th>\n",
       "      <th>0</th>\n",
       "    </tr>\n",
       "  </thead>\n",
       "  <tbody>\n",
       "    <tr>\n",
       "      <th>0</th>\n",
       "      <td>Honesty</td>\n",
       "    </tr>\n",
       "    <tr>\n",
       "      <th>1</th>\n",
       "      <td>Simplicity</td>\n",
       "    </tr>\n",
       "    <tr>\n",
       "      <th>2</th>\n",
       "      <td>Happiness</td>\n",
       "    </tr>\n",
       "    <tr>\n",
       "      <th>3</th>\n",
       "      <td>Thankfulness</td>\n",
       "    </tr>\n",
       "    <tr>\n",
       "      <th>4</th>\n",
       "      <td>Participation</td>\n",
       "    </tr>\n",
       "    <tr>\n",
       "      <th>...</th>\n",
       "      <td>...</td>\n",
       "    </tr>\n",
       "    <tr>\n",
       "      <th>103</th>\n",
       "      <td>Helpfulness</td>\n",
       "    </tr>\n",
       "    <tr>\n",
       "      <th>104</th>\n",
       "      <td>Respect</td>\n",
       "    </tr>\n",
       "    <tr>\n",
       "      <th>105</th>\n",
       "      <td>Thankfulness</td>\n",
       "    </tr>\n",
       "    <tr>\n",
       "      <th>106</th>\n",
       "      <td>Listening</td>\n",
       "    </tr>\n",
       "    <tr>\n",
       "      <th>107</th>\n",
       "      <td>Understanding</td>\n",
       "    </tr>\n",
       "  </tbody>\n",
       "</table>\n",
       "<p>314 rows × 1 columns</p>\n",
       "</div>"
      ],
      "text/plain": [
       "                  0\n",
       "0           Honesty\n",
       "1        Simplicity\n",
       "2         Happiness\n",
       "3      Thankfulness\n",
       "4     Participation\n",
       "..              ...\n",
       "103     Helpfulness\n",
       "104         Respect\n",
       "105    Thankfulness\n",
       "106       Listening\n",
       "107  Understanding \n",
       "\n",
       "[314 rows x 1 columns]"
      ]
     },
     "execution_count": 12,
     "metadata": {},
     "output_type": "execute_result"
    }
   ],
   "source": [
    "result"
   ]
  },
  {
   "cell_type": "code",
   "execution_count": 13,
   "id": "b3fd5ae9",
   "metadata": {
    "execution": {
     "iopub.execute_input": "2022-02-02T02:28:12.041573Z",
     "iopub.status.busy": "2022-02-02T02:28:12.038055Z",
     "iopub.status.idle": "2022-02-02T02:28:12.045527Z",
     "shell.execute_reply": "2022-02-02T02:28:12.046241Z",
     "shell.execute_reply.started": "2022-02-02T02:27:22.583925Z"
    },
    "papermill": {
     "duration": 0.035638,
     "end_time": "2022-02-02T02:28:12.046508",
     "exception": false,
     "start_time": "2022-02-02T02:28:12.010870",
     "status": "completed"
    },
    "tags": []
   },
   "outputs": [],
   "source": [
    "result1 = result.reset_index()"
   ]
  },
  {
   "cell_type": "code",
   "execution_count": 14,
   "id": "b57ca185",
   "metadata": {
    "execution": {
     "iopub.execute_input": "2022-02-02T02:28:12.100318Z",
     "iopub.status.busy": "2022-02-02T02:28:12.095890Z",
     "iopub.status.idle": "2022-02-02T02:28:12.111521Z",
     "shell.execute_reply": "2022-02-02T02:28:12.112015Z",
     "shell.execute_reply.started": "2022-02-02T02:27:22.590045Z"
    },
    "papermill": {
     "duration": 0.043575,
     "end_time": "2022-02-02T02:28:12.112219",
     "exception": false,
     "start_time": "2022-02-02T02:28:12.068644",
     "status": "completed"
    },
    "tags": []
   },
   "outputs": [
    {
     "data": {
      "text/html": [
       "<div>\n",
       "<style scoped>\n",
       "    .dataframe tbody tr th:only-of-type {\n",
       "        vertical-align: middle;\n",
       "    }\n",
       "\n",
       "    .dataframe tbody tr th {\n",
       "        vertical-align: top;\n",
       "    }\n",
       "\n",
       "    .dataframe thead th {\n",
       "        text-align: right;\n",
       "    }\n",
       "</style>\n",
       "<table border=\"1\" class=\"dataframe\">\n",
       "  <thead>\n",
       "    <tr style=\"text-align: right;\">\n",
       "      <th></th>\n",
       "      <th>index</th>\n",
       "      <th>0</th>\n",
       "    </tr>\n",
       "  </thead>\n",
       "  <tbody>\n",
       "    <tr>\n",
       "      <th>0</th>\n",
       "      <td>0</td>\n",
       "      <td>Honesty</td>\n",
       "    </tr>\n",
       "    <tr>\n",
       "      <th>1</th>\n",
       "      <td>1</td>\n",
       "      <td>Simplicity</td>\n",
       "    </tr>\n",
       "    <tr>\n",
       "      <th>2</th>\n",
       "      <td>2</td>\n",
       "      <td>Happiness</td>\n",
       "    </tr>\n",
       "    <tr>\n",
       "      <th>3</th>\n",
       "      <td>3</td>\n",
       "      <td>Thankfulness</td>\n",
       "    </tr>\n",
       "    <tr>\n",
       "      <th>4</th>\n",
       "      <td>4</td>\n",
       "      <td>Participation</td>\n",
       "    </tr>\n",
       "    <tr>\n",
       "      <th>...</th>\n",
       "      <td>...</td>\n",
       "      <td>...</td>\n",
       "    </tr>\n",
       "    <tr>\n",
       "      <th>309</th>\n",
       "      <td>103</td>\n",
       "      <td>Helpfulness</td>\n",
       "    </tr>\n",
       "    <tr>\n",
       "      <th>310</th>\n",
       "      <td>104</td>\n",
       "      <td>Respect</td>\n",
       "    </tr>\n",
       "    <tr>\n",
       "      <th>311</th>\n",
       "      <td>105</td>\n",
       "      <td>Thankfulness</td>\n",
       "    </tr>\n",
       "    <tr>\n",
       "      <th>312</th>\n",
       "      <td>106</td>\n",
       "      <td>Listening</td>\n",
       "    </tr>\n",
       "    <tr>\n",
       "      <th>313</th>\n",
       "      <td>107</td>\n",
       "      <td>Understanding</td>\n",
       "    </tr>\n",
       "  </tbody>\n",
       "</table>\n",
       "<p>314 rows × 2 columns</p>\n",
       "</div>"
      ],
      "text/plain": [
       "     index               0\n",
       "0        0         Honesty\n",
       "1        1      Simplicity\n",
       "2        2       Happiness\n",
       "3        3    Thankfulness\n",
       "4        4   Participation\n",
       "..     ...             ...\n",
       "309    103     Helpfulness\n",
       "310    104         Respect\n",
       "311    105    Thankfulness\n",
       "312    106       Listening\n",
       "313    107  Understanding \n",
       "\n",
       "[314 rows x 2 columns]"
      ]
     },
     "execution_count": 14,
     "metadata": {},
     "output_type": "execute_result"
    }
   ],
   "source": [
    "result1"
   ]
  },
  {
   "cell_type": "code",
   "execution_count": 15,
   "id": "3e569e2d",
   "metadata": {
    "execution": {
     "iopub.execute_input": "2022-02-02T02:28:12.160226Z",
     "iopub.status.busy": "2022-02-02T02:28:12.159180Z",
     "iopub.status.idle": "2022-02-02T02:28:12.170829Z",
     "shell.execute_reply": "2022-02-02T02:28:12.170043Z",
     "shell.execute_reply.started": "2022-02-02T02:27:22.607269Z"
    },
    "papermill": {
     "duration": 0.037509,
     "end_time": "2022-02-02T02:28:12.171002",
     "exception": false,
     "start_time": "2022-02-02T02:28:12.133493",
     "status": "completed"
    },
    "tags": []
   },
   "outputs": [],
   "source": [
    "result4 = result1[0].str.lower()"
   ]
  },
  {
   "cell_type": "code",
   "execution_count": 16,
   "id": "1a71d898",
   "metadata": {
    "execution": {
     "iopub.execute_input": "2022-02-02T02:28:12.221536Z",
     "iopub.status.busy": "2022-02-02T02:28:12.218756Z",
     "iopub.status.idle": "2022-02-02T02:28:12.224289Z",
     "shell.execute_reply": "2022-02-02T02:28:12.224824Z",
     "shell.execute_reply.started": "2022-02-02T02:27:22.615477Z"
    },
    "papermill": {
     "duration": 0.032893,
     "end_time": "2022-02-02T02:28:12.225031",
     "exception": false,
     "start_time": "2022-02-02T02:28:12.192138",
     "status": "completed"
    },
    "tags": []
   },
   "outputs": [],
   "source": [
    "final_result = result4.str.lstrip()"
   ]
  },
  {
   "cell_type": "markdown",
   "id": "7d1ddc1f",
   "metadata": {
    "papermill": {
     "duration": 0.022141,
     "end_time": "2022-02-02T02:28:12.269012",
     "exception": false,
     "start_time": "2022-02-02T02:28:12.246871",
     "status": "completed"
    },
    "tags": []
   },
   "source": [
    "# Counting the top 10 values"
   ]
  },
  {
   "cell_type": "code",
   "execution_count": 17,
   "id": "0086f3f9",
   "metadata": {
    "execution": {
     "iopub.execute_input": "2022-02-02T02:28:12.319527Z",
     "iopub.status.busy": "2022-02-02T02:28:12.318577Z",
     "iopub.status.idle": "2022-02-02T02:28:12.338234Z",
     "shell.execute_reply": "2022-02-02T02:28:12.337569Z",
     "shell.execute_reply.started": "2022-02-02T02:27:22.625555Z"
    },
    "papermill": {
     "duration": 0.046101,
     "end_time": "2022-02-02T02:28:12.338415",
     "exception": false,
     "start_time": "2022-02-02T02:28:12.292314",
     "status": "completed"
    },
    "tags": []
   },
   "outputs": [
    {
     "data": {
      "text/plain": [
       "honesty          10\n",
       "creativity       10\n",
       "determination     9\n",
       "flexibility       9\n",
       "enthusiasm        9\n",
       "friendship        8\n",
       "optimism          8\n",
       "learning          8\n",
       "simplicity        8\n",
       "confidence        8\n",
       "Name: 0, dtype: int64"
      ]
     },
     "execution_count": 17,
     "metadata": {},
     "output_type": "execute_result"
    }
   ],
   "source": [
    "final_result.value_counts().nlargest(10)"
   ]
  },
  {
   "cell_type": "markdown",
   "id": "314a7f97",
   "metadata": {
    "papermill": {
     "duration": 0.023527,
     "end_time": "2022-02-02T02:28:12.385024",
     "exception": false,
     "start_time": "2022-02-02T02:28:12.361497",
     "status": "completed"
    },
    "tags": []
   },
   "source": []
  }
 ],
 "metadata": {
  "kernelspec": {
   "display_name": "Python 3",
   "language": "python",
   "name": "python3"
  },
  "language_info": {
   "codemirror_mode": {
    "name": "ipython",
    "version": 3
   },
   "file_extension": ".py",
   "mimetype": "text/x-python",
   "name": "python",
   "nbconvert_exporter": "python",
   "pygments_lexer": "ipython3",
   "version": "3.7.12"
  },
  "papermill": {
   "default_parameters": {},
   "duration": 14.177388,
   "end_time": "2022-02-02T02:28:13.120029",
   "environment_variables": {},
   "exception": null,
   "input_path": "__notebook__.ipynb",
   "output_path": "__notebook__.ipynb",
   "parameters": {},
   "start_time": "2022-02-02T02:27:58.942641",
   "version": "2.3.3"
  }
 },
 "nbformat": 4,
 "nbformat_minor": 5
}
